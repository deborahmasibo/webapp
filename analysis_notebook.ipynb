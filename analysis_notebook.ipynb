{
 "cells": [
  {
   "cell_type": "code",
   "execution_count": 1,
   "metadata": {},
   "outputs": [],
   "source": [
    "# Imports\n",
    "#import streamlit as st\n",
    "import pandas as pd\n",
    "import numpy as np\n",
    "from PIL import Image\n",
    "#import yfinance as yf\n",
    "from urllib.request import urlopen\n",
    "from datetime import datetime, timedelta, date\n",
    "import plotly.express as px\n",
    "import plotly.graph_objects as go"
   ]
  },
  {
   "cell_type": "code",
   "execution_count": 2,
   "metadata": {},
   "outputs": [],
   "source": [
    "# Loading datasets\n",
    "bitcoin = pd.read_csv('Bitcoin.csv')\n",
    "ethereum = pd.read_csv('Ethereum.csv')"
   ]
  },
  {
   "cell_type": "code",
   "execution_count": 3,
   "metadata": {},
   "outputs": [],
   "source": [
    "# Fuction used to obtain yearly dates\n",
    "def YearIncrement(timeframe):\n",
    "    start_date = \"2017-11-08\"\n",
    "    next_year = int(start_date[:4]) + timeframe\n",
    "    start_date= str(next_year) + start_date[4:]\n",
    "    next_date = start_date\n",
    "    return next_date"
   ]
  },
  {
   "cell_type": "code",
   "execution_count": 4,
   "metadata": {},
   "outputs": [],
   "source": [
    "# Getting annual closing price difference\n",
    "def ClosingPriceDifference(table):\n",
    "    start = []\n",
    "    end = []\n",
    "    for num in range(6):\n",
    "        start.append(YearIncrement(num))\n",
    "        end.append(YearIncrement(num+1))\n",
    "    annual_performance = pd.DataFrame({'Start Date': start, 'End Date': end})\n",
    "    start_date = list(annual_performance['Start Date'])\n",
    "    end_date = list(annual_performance['End Date'])\n",
    "    difference = []\n",
    "    for num in range(len(annual_performance)):\n",
    "        value = (table[table['Date'] == end_date[num]]['Close'].max()) - (table[table['Date'] == start_date[num]]['Close'].max())\n",
    "        difference.append(value)\n",
    "    difference\n",
    "\n",
    "    annual_performance['Difference'] = difference\n",
    "    return annual_performance"
   ]
  },
  {
   "cell_type": "code",
   "execution_count": 5,
   "metadata": {},
   "outputs": [],
   "source": [
    "annual_performance_bitcoin = ClosingPriceDifference(bitcoin)\n",
    "annual_performance_ethereum = ClosingPriceDifference(ethereum)\n",
    "compiled_annual_performance = annual_performance_bitcoin.merge(annual_performance_ethereum, how = 'inner', on = 'Start Date')"
   ]
  },
  {
   "cell_type": "code",
   "execution_count": 6,
   "metadata": {},
   "outputs": [
    {
     "data": {
      "text/html": [
       "<div>\n",
       "<style scoped>\n",
       "    .dataframe tbody tr th:only-of-type {\n",
       "        vertical-align: middle;\n",
       "    }\n",
       "\n",
       "    .dataframe tbody tr th {\n",
       "        vertical-align: top;\n",
       "    }\n",
       "\n",
       "    .dataframe thead th {\n",
       "        text-align: right;\n",
       "    }\n",
       "</style>\n",
       "<table border=\"1\" class=\"dataframe\">\n",
       "  <thead>\n",
       "    <tr style=\"text-align: right;\">\n",
       "      <th></th>\n",
       "      <th>Start Date</th>\n",
       "      <th>End Date</th>\n",
       "      <th>Bitcoin Price Difference</th>\n",
       "      <th>Ethereum Price Difference</th>\n",
       "    </tr>\n",
       "  </thead>\n",
       "  <tbody>\n",
       "    <tr>\n",
       "      <th>0</th>\n",
       "      <td>2017-11-08</td>\n",
       "      <td>2018-11-08</td>\n",
       "      <td>-1005.969727</td>\n",
       "      <td>NaN</td>\n",
       "    </tr>\n",
       "    <tr>\n",
       "      <th>1</th>\n",
       "      <td>2018-11-08</td>\n",
       "      <td>2019-11-08</td>\n",
       "      <td>2351.160645</td>\n",
       "      <td>-28.019531</td>\n",
       "    </tr>\n",
       "    <tr>\n",
       "      <th>2</th>\n",
       "      <td>2019-11-08</td>\n",
       "      <td>2020-11-08</td>\n",
       "      <td>6674.686523</td>\n",
       "      <td>269.343307</td>\n",
       "    </tr>\n",
       "    <tr>\n",
       "      <th>3</th>\n",
       "      <td>2020-11-08</td>\n",
       "      <td>2021-11-08</td>\n",
       "      <td>52087.260742</td>\n",
       "      <td>4358.532623</td>\n",
       "    </tr>\n",
       "    <tr>\n",
       "      <th>4</th>\n",
       "      <td>2021-11-08</td>\n",
       "      <td>2022-11-08</td>\n",
       "      <td>NaN</td>\n",
       "      <td>NaN</td>\n",
       "    </tr>\n",
       "    <tr>\n",
       "      <th>5</th>\n",
       "      <td>2022-11-08</td>\n",
       "      <td>2023-11-08</td>\n",
       "      <td>NaN</td>\n",
       "      <td>NaN</td>\n",
       "    </tr>\n",
       "  </tbody>\n",
       "</table>\n",
       "</div>"
      ],
      "text/plain": [
       "   Start Date    End Date  Bitcoin Price Difference  Ethereum Price Difference\n",
       "0  2017-11-08  2018-11-08              -1005.969727                        NaN\n",
       "1  2018-11-08  2019-11-08               2351.160645                 -28.019531\n",
       "2  2019-11-08  2020-11-08               6674.686523                 269.343307\n",
       "3  2020-11-08  2021-11-08              52087.260742                4358.532623\n",
       "4  2021-11-08  2022-11-08                       NaN                        NaN\n",
       "5  2022-11-08  2023-11-08                       NaN                        NaN"
      ]
     },
     "execution_count": 6,
     "metadata": {},
     "output_type": "execute_result"
    }
   ],
   "source": [
    "compiled_annual_performance.drop('End Date_y', axis = 1, inplace = True)\n",
    "compiled_annual_performance.rename(columns = {'End Date_x': 'End Date', 'Difference_x': 'Bitcoin Price Difference', 'Difference_y': 'Ethereum Price Difference'}, inplace = True)\n",
    "compiled_annual_performance\n",
    "\n"
   ]
  },
  {
   "cell_type": "code",
   "execution_count": 7,
   "metadata": {},
   "outputs": [],
   "source": [
    "def ReturnTable(num):\n",
    "    if num == 1:\n",
    "        return annual_performance_bitcoin\n",
    "    elif num == 2:\n",
    "        return annual_performance_ethereum\n",
    "    elif num == 3:\n",
    "        return compiled_annual_performance\n"
   ]
  },
  {
   "cell_type": "code",
   "execution_count": 8,
   "metadata": {},
   "outputs": [
    {
     "data": {
      "text/html": [
       "<div>\n",
       "<style scoped>\n",
       "    .dataframe tbody tr th:only-of-type {\n",
       "        vertical-align: middle;\n",
       "    }\n",
       "\n",
       "    .dataframe tbody tr th {\n",
       "        vertical-align: top;\n",
       "    }\n",
       "\n",
       "    .dataframe thead th {\n",
       "        text-align: right;\n",
       "    }\n",
       "</style>\n",
       "<table border=\"1\" class=\"dataframe\">\n",
       "  <thead>\n",
       "    <tr style=\"text-align: right;\">\n",
       "      <th></th>\n",
       "      <th>Start Date</th>\n",
       "      <th>End Date</th>\n",
       "      <th>Difference</th>\n",
       "    </tr>\n",
       "  </thead>\n",
       "  <tbody>\n",
       "    <tr>\n",
       "      <th>0</th>\n",
       "      <td>2017-11-08</td>\n",
       "      <td>2018-11-08</td>\n",
       "      <td>-1005.969727</td>\n",
       "    </tr>\n",
       "    <tr>\n",
       "      <th>1</th>\n",
       "      <td>2018-11-08</td>\n",
       "      <td>2019-11-08</td>\n",
       "      <td>2351.160645</td>\n",
       "    </tr>\n",
       "    <tr>\n",
       "      <th>2</th>\n",
       "      <td>2019-11-08</td>\n",
       "      <td>2020-11-08</td>\n",
       "      <td>6674.686523</td>\n",
       "    </tr>\n",
       "    <tr>\n",
       "      <th>3</th>\n",
       "      <td>2020-11-08</td>\n",
       "      <td>2021-11-08</td>\n",
       "      <td>52087.260742</td>\n",
       "    </tr>\n",
       "    <tr>\n",
       "      <th>4</th>\n",
       "      <td>2021-11-08</td>\n",
       "      <td>2022-11-08</td>\n",
       "      <td>NaN</td>\n",
       "    </tr>\n",
       "    <tr>\n",
       "      <th>5</th>\n",
       "      <td>2022-11-08</td>\n",
       "      <td>2023-11-08</td>\n",
       "      <td>NaN</td>\n",
       "    </tr>\n",
       "  </tbody>\n",
       "</table>\n",
       "</div>"
      ],
      "text/plain": [
       "   Start Date    End Date    Difference\n",
       "0  2017-11-08  2018-11-08  -1005.969727\n",
       "1  2018-11-08  2019-11-08   2351.160645\n",
       "2  2019-11-08  2020-11-08   6674.686523\n",
       "3  2020-11-08  2021-11-08  52087.260742\n",
       "4  2021-11-08  2022-11-08           NaN\n",
       "5  2022-11-08  2023-11-08           NaN"
      ]
     },
     "execution_count": 8,
     "metadata": {},
     "output_type": "execute_result"
    }
   ],
   "source": [
    "ReturnTable(1)"
   ]
  },
  {
   "cell_type": "markdown",
   "metadata": {},
   "source": [
    "## 2018 Crash"
   ]
  },
  {
   "cell_type": "code",
   "execution_count": 11,
   "metadata": {},
   "outputs": [],
   "source": [
    "bitcoin_crash = bitcoin[(bitcoin.Date > '2017-09-01') & (bitcoin.Date < '2018-12-31')]\n",
    "ethereum_crash = ethereum[(ethereum.Date > '2017-09-01') & (ethereum.Date < '2018-12-31')]\n",
    "combined_crash = bitcoin_crash.merge(ethereum_crash, how = 'inner', on = 'Date')\n",
    "combined_crash.columns.values[:] = combined_crash.columns.map(lambda x: x.replace('x','Bitcoin'))\n",
    "combined_crash.columns.values[:] = combined_crash.columns.map(lambda x: x.replace('y','Ethereum'))\n",
    "combined_crash.to_csv('combined crash.csv')\n"
   ]
  },
  {
   "cell_type": "markdown",
   "metadata": {},
   "source": [
    "## Pre-Covid Period"
   ]
  },
  {
   "cell_type": "code",
   "execution_count": 15,
   "metadata": {},
   "outputs": [],
   "source": [
    "bitcoin_precovid = bitcoin[(bitcoin.Date > '2018-12-31') & (bitcoin.Date < '2020-01-30')]\n",
    "ethereum_precovid = ethereum[(ethereum.Date > '2018-12-31') & (ethereum.Date < '2020-01-30')]\n",
    "combined_precovid = bitcoin_precovid.merge(ethereum_precovid, how = 'inner', on = 'Date')\n",
    "combined_precovid.columns.values[:] = combined_precovid.columns.map(lambda x: x.replace('x','Bitcoin'))\n",
    "combined_precovid.columns.values[:] = combined_precovid.columns.map(lambda x: x.replace('y','Ethereum'))\n",
    "combined_precovid.to_csv('combined Pre-Covid.csv')"
   ]
  },
  {
   "cell_type": "markdown",
   "metadata": {},
   "source": [
    "## Covid-19 Preiod"
   ]
  },
  {
   "cell_type": "code",
   "execution_count": 17,
   "metadata": {},
   "outputs": [],
   "source": [
    "bitcoin_covidperiod = bitcoin[(bitcoin.Date > '2020-01-30') & (bitcoin.Date < '2021-01-01')]\n",
    "ethereum_covidperiod = ethereum[(ethereum.Date > '2020-01-30') & (ethereum.Date < '2021-01-01')]\n",
    "combined_covidperiod = bitcoin_covidperiod.merge(ethereum_covidperiod, how = 'inner', on = 'Date')\n",
    "combined_covidperiod.columns.values[:] = combined_covidperiod.columns.map(lambda x: x.replace('x','Bitcoin'))\n",
    "combined_covidperiod.columns.values[:] = combined_covidperiod.columns.map(lambda x: x.replace('y','Ethereum'))\n",
    "combined_covidperiod.to_csv('combined Covid-19 Period.csv')"
   ]
  },
  {
   "cell_type": "markdown",
   "metadata": {},
   "source": [
    "## Post Covid 19 Lockdown Period"
   ]
  },
  {
   "cell_type": "code",
   "execution_count": 18,
   "metadata": {},
   "outputs": [],
   "source": [
    "bitcoin_postcovid = bitcoin[(bitcoin.Date > '2021-01-01')]\n",
    "ethereum_postcovid = ethereum[(ethereum.Date > '2021-01-01')]\n",
    "combined_postcovid = bitcoin_postcovid.merge(ethereum_postcovid, how = 'inner', on = 'Date')\n",
    "combined_postcovid.columns.values[:] = combined_postcovid.columns.map(lambda x: x.replace('x','Bitcoin'))\n",
    "combined_postcovid.columns.values[:] = combined_postcovid.columns.map(lambda x: x.replace('y','Ethereum'))\n",
    "combined_postcovid.to_csv('combined Post Covid-19 Period.csv')"
   ]
  }
 ],
 "metadata": {
  "interpreter": {
   "hash": "1e915f0a29dc84041eaeb02b7b1a21c440e37a87b61d44d5e84a515737dc82bc"
  },
  "kernelspec": {
   "display_name": "Python 3.8.3 ('base')",
   "language": "python",
   "name": "python3"
  },
  "language_info": {
   "codemirror_mode": {
    "name": "ipython",
    "version": 3
   },
   "file_extension": ".py",
   "mimetype": "text/x-python",
   "name": "python",
   "nbconvert_exporter": "python",
   "pygments_lexer": "ipython3",
   "version": "3.8.3"
  },
  "orig_nbformat": 4
 },
 "nbformat": 4,
 "nbformat_minor": 2
}
